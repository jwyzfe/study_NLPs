{
 "cells": [
  {
   "cell_type": "code",
   "execution_count": 7,
   "metadata": {},
   "outputs": [],
   "source": [
    "import pickle\n",
    "from sklearn.metrics.pairwise import cosine_similarity\n",
    "import pandas as pd\n",
    "\n",
    "# 새로운 문장에 대한 유사도 계산 함수\n",
    "def calculate_similarity(new_sentence):\n",
    "    # Pickle로 모델과 데이터 불러오기\n",
    "    with open('tfidf_vectorizer.pkl', 'rb') as f:\n",
    "        vectorizer = pickle.load(f)\n",
    "\n",
    "    with open('tfidf_matrix.pkl', 'rb') as f:\n",
    "        tfidf_matrix = pickle.load(f)\n",
    "    \n",
    "    # 새 문장을 TF-IDF로 변환\n",
    "    new_vector = vectorizer.transform([new_sentence])\n",
    "    \n",
    "    # 코사인 유사도 계산\n",
    "    similarities = cosine_similarity(new_vector, tfidf_matrix).flatten()\n",
    "    \n",
    "    # 가장 유사한 문장 찾기\n",
    "    top_idx = similarities.argmax()\n",
    "    most_similar_score = similarities[top_idx]\n",
    "    most_similar_sentence = texts[top_idx]\n",
    "    \n",
    "    return most_similar_score, most_similar_sentence\n"
   ]
  },
  {
   "cell_type": "code",
   "execution_count": 11,
   "metadata": {},
   "outputs": [
    {
     "name": "stdout",
     "output_type": "stream",
     "text": [
      "입력 문장: 애플\n",
      "가장 유사한 문장: 애플 주주들이여 언제까지 상승장에서 빌빌거릴 것입니까!! 동학애플 주주의 저력을 보여줍시다!\n",
      "유사도: 1.0000\n"
     ]
    }
   ],
   "source": [
    "# 새로운 문장 입력\n",
    "new_sentence = \"애플\"\n",
    "score, sentence = calculate_similarity(new_sentence)\n",
    "\n",
    "print(f\"입력 문장: {new_sentence}\")\n",
    "print(f\"가장 유사한 문장: {sentence}\")\n",
    "print(f\"유사도: {score:.4f}\")"
   ]
  },
  {
   "cell_type": "code",
   "execution_count": null,
   "metadata": {},
   "outputs": [],
   "source": [
    "#"
   ]
  }
 ],
 "metadata": {
  "kernelspec": {
   "display_name": "Python 3",
   "language": "python",
   "name": "python3"
  },
  "language_info": {
   "codemirror_mode": {
    "name": "ipython",
    "version": 3
   },
   "file_extension": ".py",
   "mimetype": "text/x-python",
   "name": "python",
   "nbconvert_exporter": "python",
   "pygments_lexer": "ipython3",
   "version": "3.11.11"
  }
 },
 "nbformat": 4,
 "nbformat_minor": 2
}
