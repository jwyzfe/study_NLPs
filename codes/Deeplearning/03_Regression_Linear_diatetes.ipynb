{
  "nbformat": 4,
  "nbformat_minor": 0,
  "metadata": {
    "colab": {
      "provenance": [],
      "authorship_tag": "ABX9TyOOIVXOdGkYqPuxZYi8g8dS",
      "include_colab_link": true
    },
    "kernelspec": {
      "name": "python3",
      "display_name": "Python 3"
    },
    "language_info": {
      "name": "python"
    }
  },
  "cells": [
    {
      "cell_type": "markdown",
      "metadata": {
        "id": "view-in-github",
        "colab_type": "text"
      },
      "source": [
        "<a href=\"https://colab.research.google.com/github/jwyzfe/study_NLPs/blob/main/codes/Deeplearning/03_Regression_Linear_diatetes.ipynb\" target=\"_parent\"><img src=\"https://colab.research.google.com/assets/colab-badge.svg\" alt=\"Open In Colab\"/></a>"
      ]
    },
    {
      "cell_type": "markdown",
      "source": [
        "## 데이터 수집"
      ],
      "metadata": {
        "id": "z4BUmwQmJXIv"
      }
    },
    {
      "cell_type": "code",
      "source": [
        "from sklearn.datasets import load_diabetes\n",
        "data_diabetes = load_diabetes()\n",
        "features, label = data_diabetes.data, data_diabetes.target\n",
        "features.shape, label.shape"
      ],
      "metadata": {
        "colab": {
          "base_uri": "https://localhost:8080/"
        },
        "id": "jC2Cdhl1J3e2",
        "outputId": "daa9fabd-60af-408d-cd48-bdd63206f45f"
      },
      "execution_count": 5,
      "outputs": [
        {
          "output_type": "execute_result",
          "data": {
            "text/plain": [
              "((442, 10), (442,))"
            ]
          },
          "metadata": {},
          "execution_count": 5
        }
      ]
    },
    {
      "cell_type": "markdown",
      "source": [],
      "metadata": {
        "id": "g6C8ZCpbJ3K9"
      }
    },
    {
      "cell_type": "markdown",
      "source": [
        "###데이터 전처리\n",
        "- 데이터 분석"
      ],
      "metadata": {
        "id": "xYqsjBL6JZ99"
      }
    },
    {
      "cell_type": "markdown",
      "source": [
        "## 데이터 분할\n",
        "- train, test, validation"
      ],
      "metadata": {
        "id": "slpnTMUFJcx1"
      }
    },
    {
      "cell_type": "code",
      "source": [
        "from sklearn.model_selection import train_test_split\n",
        "train_features, test_features, train_label, test_label = train_test_split(features, label, test_size=0.2, random_state=42)"
      ],
      "metadata": {
        "id": "8_Q6RPQQKuKO"
      },
      "execution_count": 7,
      "outputs": []
    },
    {
      "cell_type": "code",
      "source": [
        "import torch"
      ],
      "metadata": {
        "id": "1PLymSg7LbA2"
      },
      "execution_count": 8,
      "outputs": []
    },
    {
      "cell_type": "code",
      "source": [
        "train_features_tensor = torch.tensor(train_features, dtype=torch.float32)\n",
        "train_label_tensor = torch.tensor(train_label,dtype=torch.float32).view(-1,1) # 행렬 모양으로 변경\n",
        "#test_features_tensor = torch.tensor(test_features)\n",
        "#test_label_tensor = torch.tensor(test_label)\n",
        "type(train_features_tensor), type(train_label_tensor), train_label_tensor.shape"
      ],
      "metadata": {
        "colab": {
          "base_uri": "https://localhost:8080/"
        },
        "id": "O7KPVPkDLzom",
        "outputId": "3d9eaec2-5b57-4e68-977c-1c82881711eb"
      },
      "execution_count": 34,
      "outputs": [
        {
          "output_type": "execute_result",
          "data": {
            "text/plain": [
              "(torch.Tensor, torch.Tensor, torch.Size([353, 1]))"
            ]
          },
          "metadata": {},
          "execution_count": 34
        }
      ]
    },
    {
      "cell_type": "markdown",
      "source": [
        "## 모델 학습"
      ],
      "metadata": {
        "id": "HqrN4d3DJtTe"
      }
    },
    {
      "cell_type": "code",
      "source": [
        "# simple model linear regression\n",
        "class LinearRegression(torch.nn.Module):\n",
        "  def __init__(self, input_dim, output_dim):  # input_dim:reatures 열 갯수, output_dim:label 카테고리 갯수\n",
        "    super(LinearRegression, self).__init__()\n",
        "    self.linear = torch.nn.Linear(input_dim, output_dim)\n",
        "\n",
        "  def forward(self, x):\n",
        "    out = self.linear(x)\n",
        "    return out"
      ],
      "metadata": {
        "id": "wq2KAqWiMNgO"
      },
      "execution_count": 35,
      "outputs": []
    },
    {
      "cell_type": "code",
      "source": [
        "train_features_tensor.shape, train_label_tensor.shape"
      ],
      "metadata": {
        "colab": {
          "base_uri": "https://localhost:8080/"
        },
        "id": "kKd68ImLOVWO",
        "outputId": "9920b2de-6557-4523-b0b4-19f27c178bad"
      },
      "execution_count": 36,
      "outputs": [
        {
          "output_type": "execute_result",
          "data": {
            "text/plain": [
              "(torch.Size([353, 10]), torch.Size([353, 1]))"
            ]
          },
          "metadata": {},
          "execution_count": 36
        }
      ]
    },
    {
      "cell_type": "code",
      "source": [
        "model = LinearRegression(10, train_label_tensor.shape[1])"
      ],
      "metadata": {
        "id": "qFqGlB__OL0v"
      },
      "execution_count": 37,
      "outputs": []
    },
    {
      "cell_type": "code",
      "source": [
        "model"
      ],
      "metadata": {
        "colab": {
          "base_uri": "https://localhost:8080/"
        },
        "id": "ZoOOlceGPO8f",
        "outputId": "01a06664-39ac-4e32-b858-a4f8756423d2"
      },
      "execution_count": 38,
      "outputs": [
        {
          "output_type": "execute_result",
          "data": {
            "text/plain": [
              "LinearRegression(\n",
              "  (linear): Linear(in_features=10, out_features=1, bias=True)\n",
              ")"
            ]
          },
          "metadata": {},
          "execution_count": 38
        }
      ]
    },
    {
      "cell_type": "code",
      "source": [
        "criterion = torch.nn.MSELoss()  #Loss function\n",
        "optimizer = torch.optim.SGD(model.parameters(), lr=0.01) #optimizer function"
      ],
      "metadata": {
        "id": "_n7zuoxBVgVI"
      },
      "execution_count": 39,
      "outputs": []
    },
    {
      "cell_type": "code",
      "source": [
        "for epoch in range(10):\n",
        "  # Forward pass: Compute predicted y by passing x to the model\n",
        "  pred_y = model(train_features_tensor)\n",
        "\n",
        "  #Compute and print loss\n",
        "  loss = criterion(pred_y, train_label_tensor)\n",
        "  optimizer.zero_grad()\n",
        "  loss.backward()\n",
        "  optimizer.step()\n",
        "  if epoch % 100 == 0:\n",
        "    print(f'Epoch: {epoch}, Loss: {loss.item()}')"
      ],
      "metadata": {
        "colab": {
          "base_uri": "https://localhost:8080/"
        },
        "id": "umDdlYBwWs4f",
        "outputId": "aee876f1-8ad2-474e-d2ea-2c93082d3fcd"
      },
      "execution_count": 45,
      "outputs": [
        {
          "output_type": "stream",
          "name": "stdout",
          "text": [
            "Epoch: 0, Loss: 16548.275390625\n"
          ]
        }
      ]
    },
    {
      "cell_type": "markdown",
      "source": [
        "## 모델 평가"
      ],
      "metadata": {
        "id": "QGVzMK63JvCO"
      }
    },
    {
      "cell_type": "code",
      "source": [
        "model.eval()"
      ],
      "metadata": {
        "id": "SQRNawOmZPeB"
      },
      "execution_count": null,
      "outputs": []
    },
    {
      "cell_type": "code",
      "source": [
        "with torch.no_grad(): #학습 목적 아닌 평가 목적 위해 고정\n",
        "  pred_y = model(train_features_tensor)\n",
        "  loss = criterion(pred_y, train_label_tensor) # 예측도 같은 Loss function\n",
        "  print(f'Loss: {loss.item()}')"
      ],
      "metadata": {
        "colab": {
          "base_uri": "https://localhost:8080/"
        },
        "id": "hgJePQqEZRqo",
        "outputId": "f40677eb-5fae-4df5-d8d3-6babcfa2457c"
      },
      "execution_count": 43,
      "outputs": [
        {
          "output_type": "stream",
          "name": "stdout",
          "text": [
            "Loss: 16548.275390625\n"
          ]
        }
      ]
    },
    {
      "cell_type": "markdown",
      "source": [
        "## 모델 배포"
      ],
      "metadata": {
        "id": "7KOfO9o1JwJX"
      }
    },
    {
      "cell_type": "code",
      "execution_count": null,
      "metadata": {
        "id": "CVsb3desJTXs"
      },
      "outputs": [],
      "source": []
    }
  ]
}