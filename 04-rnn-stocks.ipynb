{
 "cells": [
  {
   "cell_type": "markdown",
   "id": "a1c60a11",
   "metadata": {
    "papermill": {
     "duration": 0.004356,
     "end_time": "2025-02-04T06:47:05.180908",
     "exception": false,
     "start_time": "2025-02-04T06:47:05.176552",
     "status": "completed"
    },
    "tags": []
   },
   "source": [
    "## simple RNN\n",
    "- dataset : https://www.kaggle.com/datasets/iveeaten3223times/massive-yahoo-finance-dataset\n",
    "- 연속형(시계열, 문장 등) 데이터 처리에 유리"
   ]
  },
  {
   "cell_type": "markdown",
   "id": "051c4d49",
   "metadata": {
    "papermill": {
     "duration": 0.003444,
     "end_time": "2025-02-04T06:47:05.188300",
     "exception": false,
     "start_time": "2025-02-04T06:47:05.184856",
     "status": "completed"
    },
    "tags": []
   },
   "source": [
    "## 데이터 관련"
   ]
  },
  {
   "cell_type": "code",
   "execution_count": 1,
   "id": "36789972",
   "metadata": {
    "execution": {
     "iopub.execute_input": "2025-02-04T06:47:05.196737Z",
     "iopub.status.busy": "2025-02-04T06:47:05.196442Z",
     "iopub.status.idle": "2025-02-04T06:47:07.325037Z",
     "shell.execute_reply": "2025-02-04T06:47:07.324032Z"
    },
    "papermill": {
     "duration": 2.134878,
     "end_time": "2025-02-04T06:47:07.326802",
     "exception": false,
     "start_time": "2025-02-04T06:47:05.191924",
     "status": "completed"
    },
    "tags": []
   },
   "outputs": [
    {
     "data": {
      "text/html": [
       "<div>\n",
       "<style scoped>\n",
       "    .dataframe tbody tr th:only-of-type {\n",
       "        vertical-align: middle;\n",
       "    }\n",
       "\n",
       "    .dataframe tbody tr th {\n",
       "        vertical-align: top;\n",
       "    }\n",
       "\n",
       "    .dataframe thead th {\n",
       "        text-align: right;\n",
       "    }\n",
       "</style>\n",
       "<table border=\"1\" class=\"dataframe\">\n",
       "  <thead>\n",
       "    <tr style=\"text-align: right;\">\n",
       "      <th></th>\n",
       "      <th>Date</th>\n",
       "      <th>Open</th>\n",
       "      <th>High</th>\n",
       "      <th>Low</th>\n",
       "      <th>Close</th>\n",
       "      <th>Volume</th>\n",
       "      <th>Dividends</th>\n",
       "      <th>Stock Splits</th>\n",
       "      <th>Company</th>\n",
       "    </tr>\n",
       "  </thead>\n",
       "  <tbody>\n",
       "    <tr>\n",
       "      <th>0</th>\n",
       "      <td>2018-11-29 00:00:00-05:00</td>\n",
       "      <td>43.829761</td>\n",
       "      <td>43.863354</td>\n",
       "      <td>42.639594</td>\n",
       "      <td>43.083508</td>\n",
       "      <td>167080000</td>\n",
       "      <td>0.0</td>\n",
       "      <td>0.0</td>\n",
       "      <td>AAPL</td>\n",
       "    </tr>\n",
       "    <tr>\n",
       "      <th>1</th>\n",
       "      <td>2018-11-29 00:00:00-05:00</td>\n",
       "      <td>104.769074</td>\n",
       "      <td>105.519257</td>\n",
       "      <td>103.534595</td>\n",
       "      <td>104.636131</td>\n",
       "      <td>28123200</td>\n",
       "      <td>0.0</td>\n",
       "      <td>0.0</td>\n",
       "      <td>MSFT</td>\n",
       "    </tr>\n",
       "    <tr>\n",
       "      <th>2</th>\n",
       "      <td>2018-11-29 00:00:00-05:00</td>\n",
       "      <td>54.176498</td>\n",
       "      <td>55.007500</td>\n",
       "      <td>54.099998</td>\n",
       "      <td>54.729000</td>\n",
       "      <td>31004000</td>\n",
       "      <td>0.0</td>\n",
       "      <td>0.0</td>\n",
       "      <td>GOOGL</td>\n",
       "    </tr>\n",
       "  </tbody>\n",
       "</table>\n",
       "</div>"
      ],
      "text/plain": [
       "                        Date        Open        High         Low       Close  \\\n",
       "0  2018-11-29 00:00:00-05:00   43.829761   43.863354   42.639594   43.083508   \n",
       "1  2018-11-29 00:00:00-05:00  104.769074  105.519257  103.534595  104.636131   \n",
       "2  2018-11-29 00:00:00-05:00   54.176498   55.007500   54.099998   54.729000   \n",
       "\n",
       "      Volume  Dividends  Stock Splits Company  \n",
       "0  167080000        0.0           0.0    AAPL  \n",
       "1   28123200        0.0           0.0    MSFT  \n",
       "2   31004000        0.0           0.0   GOOGL  "
      ]
     },
     "execution_count": 1,
     "metadata": {},
     "output_type": "execute_result"
    }
   ],
   "source": [
    "# 데이터 로드\n",
    "import pandas as pd\n",
    "df_stock_all = pd.read_csv('/kaggle/input/massive-yahoo-finance-dataset/stock_details_5_years.csv')\n",
    "df_stock_all.head(3)"
   ]
  },
  {
   "cell_type": "code",
   "execution_count": 2,
   "id": "ac07b883",
   "metadata": {
    "execution": {
     "iopub.execute_input": "2025-02-04T06:47:07.337773Z",
     "iopub.status.busy": "2025-02-04T06:47:07.337458Z",
     "iopub.status.idle": "2025-02-04T06:47:07.403268Z",
     "shell.execute_reply": "2025-02-04T06:47:07.402253Z"
    },
    "papermill": {
     "duration": 0.073398,
     "end_time": "2025-02-04T06:47:07.404863",
     "exception": false,
     "start_time": "2025-02-04T06:47:07.331465",
     "status": "completed"
    },
    "tags": []
   },
   "outputs": [
    {
     "data": {
      "text/html": [
       "<div>\n",
       "<style scoped>\n",
       "    .dataframe tbody tr th:only-of-type {\n",
       "        vertical-align: middle;\n",
       "    }\n",
       "\n",
       "    .dataframe tbody tr th {\n",
       "        vertical-align: top;\n",
       "    }\n",
       "\n",
       "    .dataframe thead th {\n",
       "        text-align: right;\n",
       "    }\n",
       "</style>\n",
       "<table border=\"1\" class=\"dataframe\">\n",
       "  <thead>\n",
       "    <tr style=\"text-align: right;\">\n",
       "      <th></th>\n",
       "      <th>Date</th>\n",
       "      <th>Open</th>\n",
       "      <th>High</th>\n",
       "      <th>Low</th>\n",
       "      <th>Close</th>\n",
       "      <th>Volume</th>\n",
       "      <th>Dividends</th>\n",
       "      <th>Stock Splits</th>\n",
       "      <th>Company</th>\n",
       "    </tr>\n",
       "  </thead>\n",
       "  <tbody>\n",
       "    <tr>\n",
       "      <th>0</th>\n",
       "      <td>2018-11-29 00:00:00-05:00</td>\n",
       "      <td>43.829761</td>\n",
       "      <td>43.863354</td>\n",
       "      <td>42.639594</td>\n",
       "      <td>43.083508</td>\n",
       "      <td>167080000</td>\n",
       "      <td>0.0</td>\n",
       "      <td>0.0</td>\n",
       "      <td>AAPL</td>\n",
       "    </tr>\n",
       "    <tr>\n",
       "      <th>458</th>\n",
       "      <td>2018-11-30 00:00:00-05:00</td>\n",
       "      <td>43.261071</td>\n",
       "      <td>43.270671</td>\n",
       "      <td>42.478826</td>\n",
       "      <td>42.850754</td>\n",
       "      <td>158126000</td>\n",
       "      <td>0.0</td>\n",
       "      <td>0.0</td>\n",
       "      <td>AAPL</td>\n",
       "    </tr>\n",
       "    <tr>\n",
       "      <th>916</th>\n",
       "      <td>2018-12-03 00:00:00-05:00</td>\n",
       "      <td>44.261681</td>\n",
       "      <td>44.376858</td>\n",
       "      <td>43.481835</td>\n",
       "      <td>44.348064</td>\n",
       "      <td>163210000</td>\n",
       "      <td>0.0</td>\n",
       "      <td>0.0</td>\n",
       "      <td>AAPL</td>\n",
       "    </tr>\n",
       "    <tr>\n",
       "      <th>1374</th>\n",
       "      <td>2018-12-04 00:00:00-05:00</td>\n",
       "      <td>43.419445</td>\n",
       "      <td>43.764977</td>\n",
       "      <td>42.296468</td>\n",
       "      <td>42.397247</td>\n",
       "      <td>165377200</td>\n",
       "      <td>0.0</td>\n",
       "      <td>0.0</td>\n",
       "      <td>AAPL</td>\n",
       "    </tr>\n",
       "    <tr>\n",
       "      <th>1832</th>\n",
       "      <td>2018-12-06 00:00:00-05:00</td>\n",
       "      <td>41.214280</td>\n",
       "      <td>41.938938</td>\n",
       "      <td>40.892744</td>\n",
       "      <td>41.924541</td>\n",
       "      <td>172393600</td>\n",
       "      <td>0.0</td>\n",
       "      <td>0.0</td>\n",
       "      <td>AAPL</td>\n",
       "    </tr>\n",
       "  </tbody>\n",
       "</table>\n",
       "</div>"
      ],
      "text/plain": [
       "                           Date       Open       High        Low      Close  \\\n",
       "0     2018-11-29 00:00:00-05:00  43.829761  43.863354  42.639594  43.083508   \n",
       "458   2018-11-30 00:00:00-05:00  43.261071  43.270671  42.478826  42.850754   \n",
       "916   2018-12-03 00:00:00-05:00  44.261681  44.376858  43.481835  44.348064   \n",
       "1374  2018-12-04 00:00:00-05:00  43.419445  43.764977  42.296468  42.397247   \n",
       "1832  2018-12-06 00:00:00-05:00  41.214280  41.938938  40.892744  41.924541   \n",
       "\n",
       "         Volume  Dividends  Stock Splits Company  \n",
       "0     167080000        0.0           0.0    AAPL  \n",
       "458   158126000        0.0           0.0    AAPL  \n",
       "916   163210000        0.0           0.0    AAPL  \n",
       "1374  165377200        0.0           0.0    AAPL  \n",
       "1832  172393600        0.0           0.0    AAPL  "
      ]
     },
     "execution_count": 2,
     "metadata": {},
     "output_type": "execute_result"
    }
   ],
   "source": [
    "# 특정 회사 시계열 가져오기\n",
    "selected_company = 'AAPL'\n",
    "df_stock = df_stock_all[df_stock_all['Company'] == selected_company].copy()\n",
    "df_stock.head()"
   ]
  },
  {
   "cell_type": "markdown",
   "id": "5ff52918",
   "metadata": {
    "papermill": {
     "duration": 0.003861,
     "end_time": "2025-02-04T06:47:07.413151",
     "exception": false,
     "start_time": "2025-02-04T06:47:07.409290",
     "status": "completed"
    },
    "tags": []
   },
   "source": [
    "#### 데이터 전처리"
   ]
  },
  {
   "cell_type": "code",
   "execution_count": 3,
   "id": "dd9a3384",
   "metadata": {
    "execution": {
     "iopub.execute_input": "2025-02-04T06:47:07.422307Z",
     "iopub.status.busy": "2025-02-04T06:47:07.421975Z",
     "iopub.status.idle": "2025-02-04T06:47:07.443857Z",
     "shell.execute_reply": "2025-02-04T06:47:07.442937Z"
    },
    "papermill": {
     "duration": 0.028229,
     "end_time": "2025-02-04T06:47:07.445421",
     "exception": false,
     "start_time": "2025-02-04T06:47:07.417192",
     "status": "completed"
    },
    "tags": []
   },
   "outputs": [
    {
     "data": {
      "text/plain": [
       "datetime64[ns, UTC]"
      ]
     },
     "execution_count": 3,
     "metadata": {},
     "output_type": "execute_result"
    }
   ],
   "source": [
    "# 날짜를 datetime 변환\n",
    "df_stock['Date'] = pd.to_datetime(df_stock['Date'], utc=True)\n",
    "df_stock['Date'].dtype"
   ]
  },
  {
   "cell_type": "code",
   "execution_count": 4,
   "id": "8762bdfc",
   "metadata": {
    "execution": {
     "iopub.execute_input": "2025-02-04T06:47:07.454834Z",
     "iopub.status.busy": "2025-02-04T06:47:07.454516Z",
     "iopub.status.idle": "2025-02-04T06:47:07.473909Z",
     "shell.execute_reply": "2025-02-04T06:47:07.472626Z"
    },
    "papermill": {
     "duration": 0.026076,
     "end_time": "2025-02-04T06:47:07.475725",
     "exception": false,
     "start_time": "2025-02-04T06:47:07.449649",
     "status": "completed"
    },
    "tags": []
   },
   "outputs": [
    {
     "name": "stdout",
     "output_type": "stream",
     "text": [
      "<class 'pandas.core.frame.DataFrame'>\n",
      "Index: 1258 entries, 0 to 602471\n",
      "Data columns (total 9 columns):\n",
      " #   Column        Non-Null Count  Dtype              \n",
      "---  ------        --------------  -----              \n",
      " 0   Date          1258 non-null   datetime64[ns, UTC]\n",
      " 1   Open          1258 non-null   float64            \n",
      " 2   High          1258 non-null   float64            \n",
      " 3   Low           1258 non-null   float64            \n",
      " 4   Close         1258 non-null   float64            \n",
      " 5   Volume        1258 non-null   int64              \n",
      " 6   Dividends     1258 non-null   float64            \n",
      " 7   Stock Splits  1258 non-null   float64            \n",
      " 8   Company       1258 non-null   object             \n",
      "dtypes: datetime64[ns, UTC](1), float64(6), int64(1), object(1)\n",
      "memory usage: 98.3+ KB\n"
     ]
    }
   ],
   "source": [
    "df_stock.info()"
   ]
  },
  {
   "cell_type": "code",
   "execution_count": 5,
   "id": "1f911b2a",
   "metadata": {
    "execution": {
     "iopub.execute_input": "2025-02-04T06:47:07.485388Z",
     "iopub.status.busy": "2025-02-04T06:47:07.485072Z",
     "iopub.status.idle": "2025-02-04T06:47:08.592470Z",
     "shell.execute_reply": "2025-02-04T06:47:08.591496Z"
    },
    "papermill": {
     "duration": 1.114228,
     "end_time": "2025-02-04T06:47:08.594380",
     "exception": false,
     "start_time": "2025-02-04T06:47:07.480152",
     "status": "completed"
    },
    "tags": []
   },
   "outputs": [
    {
     "data": {
      "text/html": [
       "<div>\n",
       "<style scoped>\n",
       "    .dataframe tbody tr th:only-of-type {\n",
       "        vertical-align: middle;\n",
       "    }\n",
       "\n",
       "    .dataframe tbody tr th {\n",
       "        vertical-align: top;\n",
       "    }\n",
       "\n",
       "    .dataframe thead th {\n",
       "        text-align: right;\n",
       "    }\n",
       "</style>\n",
       "<table border=\"1\" class=\"dataframe\">\n",
       "  <thead>\n",
       "    <tr style=\"text-align: right;\">\n",
       "      <th></th>\n",
       "      <th>Date</th>\n",
       "      <th>Open</th>\n",
       "      <th>High</th>\n",
       "      <th>Low</th>\n",
       "      <th>Close</th>\n",
       "      <th>Volume</th>\n",
       "      <th>Dividends</th>\n",
       "      <th>Stock Splits</th>\n",
       "      <th>Company</th>\n",
       "    </tr>\n",
       "  </thead>\n",
       "  <tbody>\n",
       "    <tr>\n",
       "      <th>0</th>\n",
       "      <td>2018-11-29 05:00:00+00:00</td>\n",
       "      <td>-1.598199</td>\n",
       "      <td>-1.611253</td>\n",
       "      <td>-1.611061</td>\n",
       "      <td>-1.615618</td>\n",
       "      <td>1.176835</td>\n",
       "      <td>0.0</td>\n",
       "      <td>0.0</td>\n",
       "      <td>AAPL</td>\n",
       "    </tr>\n",
       "    <tr>\n",
       "      <th>458</th>\n",
       "      <td>2018-11-30 05:00:00+00:00</td>\n",
       "      <td>-1.610310</td>\n",
       "      <td>-1.623753</td>\n",
       "      <td>-1.614516</td>\n",
       "      <td>-1.620572</td>\n",
       "      <td>1.010309</td>\n",
       "      <td>0.0</td>\n",
       "      <td>0.0</td>\n",
       "      <td>AAPL</td>\n",
       "    </tr>\n",
       "    <tr>\n",
       "      <th>916</th>\n",
       "      <td>2018-12-03 05:00:00+00:00</td>\n",
       "      <td>-1.589000</td>\n",
       "      <td>-1.600423</td>\n",
       "      <td>-1.592958</td>\n",
       "      <td>-1.588704</td>\n",
       "      <td>1.104861</td>\n",
       "      <td>0.0</td>\n",
       "      <td>0.0</td>\n",
       "      <td>AAPL</td>\n",
       "    </tr>\n",
       "    <tr>\n",
       "      <th>1374</th>\n",
       "      <td>2018-12-04 05:00:00+00:00</td>\n",
       "      <td>-1.606937</td>\n",
       "      <td>-1.613328</td>\n",
       "      <td>-1.618436</td>\n",
       "      <td>-1.630224</td>\n",
       "      <td>1.145166</td>\n",
       "      <td>0.0</td>\n",
       "      <td>0.0</td>\n",
       "      <td>AAPL</td>\n",
       "    </tr>\n",
       "    <tr>\n",
       "      <th>1832</th>\n",
       "      <td>2018-12-06 05:00:00+00:00</td>\n",
       "      <td>-1.653900</td>\n",
       "      <td>-1.651840</td>\n",
       "      <td>-1.648607</td>\n",
       "      <td>-1.640285</td>\n",
       "      <td>1.275657</td>\n",
       "      <td>0.0</td>\n",
       "      <td>0.0</td>\n",
       "      <td>AAPL</td>\n",
       "    </tr>\n",
       "    <tr>\n",
       "      <th>...</th>\n",
       "      <td>...</td>\n",
       "      <td>...</td>\n",
       "      <td>...</td>\n",
       "      <td>...</td>\n",
       "      <td>...</td>\n",
       "      <td>...</td>\n",
       "      <td>...</td>\n",
       "      <td>...</td>\n",
       "      <td>...</td>\n",
       "    </tr>\n",
       "    <tr>\n",
       "      <th>600507</th>\n",
       "      <td>2023-11-22 05:00:00+00:00</td>\n",
       "      <td>1.546464</td>\n",
       "      <td>1.532611</td>\n",
       "      <td>1.574085</td>\n",
       "      <td>1.539173</td>\n",
       "      <td>-1.193708</td>\n",
       "      <td>0.0</td>\n",
       "      <td>0.0</td>\n",
       "      <td>AAPL</td>\n",
       "    </tr>\n",
       "    <tr>\n",
       "      <th>600998</th>\n",
       "      <td>2023-11-24 05:00:00+00:00</td>\n",
       "      <td>1.533260</td>\n",
       "      <td>1.489798</td>\n",
       "      <td>1.540125</td>\n",
       "      <td>1.510653</td>\n",
       "      <td>-1.483268</td>\n",
       "      <td>0.0</td>\n",
       "      <td>0.0</td>\n",
       "      <td>AAPL</td>\n",
       "    </tr>\n",
       "    <tr>\n",
       "      <th>601489</th>\n",
       "      <td>2023-11-27 05:00:00+00:00</td>\n",
       "      <td>1.513029</td>\n",
       "      <td>1.484947</td>\n",
       "      <td>1.532602</td>\n",
       "      <td>1.506822</td>\n",
       "      <td>-1.176321</td>\n",
       "      <td>0.0</td>\n",
       "      <td>0.0</td>\n",
       "      <td>AAPL</td>\n",
       "    </tr>\n",
       "    <tr>\n",
       "      <th>601980</th>\n",
       "      <td>2023-11-28 05:00:00+00:00</td>\n",
       "      <td>1.510047</td>\n",
       "      <td>1.493594</td>\n",
       "      <td>1.543349</td>\n",
       "      <td>1.519805</td>\n",
       "      <td>-1.216944</td>\n",
       "      <td>0.0</td>\n",
       "      <td>0.0</td>\n",
       "      <td>AAPL</td>\n",
       "    </tr>\n",
       "    <tr>\n",
       "      <th>602471</th>\n",
       "      <td>2023-11-29 05:00:00+00:00</td>\n",
       "      <td>1.533899</td>\n",
       "      <td>1.514895</td>\n",
       "      <td>1.553451</td>\n",
       "      <td>1.508844</td>\n",
       "      <td>-1.624170</td>\n",
       "      <td>0.0</td>\n",
       "      <td>0.0</td>\n",
       "      <td>AAPL</td>\n",
       "    </tr>\n",
       "  </tbody>\n",
       "</table>\n",
       "<p>1258 rows × 9 columns</p>\n",
       "</div>"
      ],
      "text/plain": [
       "                            Date      Open      High       Low     Close  \\\n",
       "0      2018-11-29 05:00:00+00:00 -1.598199 -1.611253 -1.611061 -1.615618   \n",
       "458    2018-11-30 05:00:00+00:00 -1.610310 -1.623753 -1.614516 -1.620572   \n",
       "916    2018-12-03 05:00:00+00:00 -1.589000 -1.600423 -1.592958 -1.588704   \n",
       "1374   2018-12-04 05:00:00+00:00 -1.606937 -1.613328 -1.618436 -1.630224   \n",
       "1832   2018-12-06 05:00:00+00:00 -1.653900 -1.651840 -1.648607 -1.640285   \n",
       "...                          ...       ...       ...       ...       ...   \n",
       "600507 2023-11-22 05:00:00+00:00  1.546464  1.532611  1.574085  1.539173   \n",
       "600998 2023-11-24 05:00:00+00:00  1.533260  1.489798  1.540125  1.510653   \n",
       "601489 2023-11-27 05:00:00+00:00  1.513029  1.484947  1.532602  1.506822   \n",
       "601980 2023-11-28 05:00:00+00:00  1.510047  1.493594  1.543349  1.519805   \n",
       "602471 2023-11-29 05:00:00+00:00  1.533899  1.514895  1.553451  1.508844   \n",
       "\n",
       "          Volume  Dividends  Stock Splits Company  \n",
       "0       1.176835        0.0           0.0    AAPL  \n",
       "458     1.010309        0.0           0.0    AAPL  \n",
       "916     1.104861        0.0           0.0    AAPL  \n",
       "1374    1.145166        0.0           0.0    AAPL  \n",
       "1832    1.275657        0.0           0.0    AAPL  \n",
       "...          ...        ...           ...     ...  \n",
       "600507 -1.193708        0.0           0.0    AAPL  \n",
       "600998 -1.483268        0.0           0.0    AAPL  \n",
       "601489 -1.176321        0.0           0.0    AAPL  \n",
       "601980 -1.216944        0.0           0.0    AAPL  \n",
       "602471 -1.624170        0.0           0.0    AAPL  \n",
       "\n",
       "[1258 rows x 9 columns]"
      ]
     },
     "execution_count": 5,
     "metadata": {},
     "output_type": "execute_result"
    }
   ],
   "source": [
    "# 스케일링\n",
    "from sklearn.preprocessing import StandardScaler\n",
    "scaler = StandardScaler()\n",
    "df_stock[['Open','High', 'Low','Close','Volume']] = scaler.fit_transform(df_stock[['Open','High', 'Low','Close','Volume']])\n",
    "df_stock"
   ]
  },
  {
   "cell_type": "markdown",
   "id": "495344b3",
   "metadata": {
    "papermill": {
     "duration": 0.004547,
     "end_time": "2025-02-04T06:47:08.604486",
     "exception": false,
     "start_time": "2025-02-04T06:47:08.599939",
     "status": "completed"
    },
    "tags": []
   },
   "source": [
    "## 모델 관련"
   ]
  },
  {
   "cell_type": "code",
   "execution_count": 6,
   "id": "a855430a",
   "metadata": {
    "execution": {
     "iopub.execute_input": "2025-02-04T06:47:08.615497Z",
     "iopub.status.busy": "2025-02-04T06:47:08.614950Z",
     "iopub.status.idle": "2025-02-04T06:47:12.328009Z",
     "shell.execute_reply": "2025-02-04T06:47:12.327164Z"
    },
    "papermill": {
     "duration": 3.720219,
     "end_time": "2025-02-04T06:47:12.329481",
     "exception": false,
     "start_time": "2025-02-04T06:47:08.609262",
     "status": "completed"
    },
    "tags": []
   },
   "outputs": [
    {
     "name": "stderr",
     "output_type": "stream",
     "text": [
      "Generating Sequences: 100%|██████████| 1253/1253 [00:00<00:00, 1030685.02it/s]\n"
     ]
    },
    {
     "data": {
      "text/plain": [
       "((1253, 5), (1253,))"
      ]
     },
     "execution_count": 6,
     "metadata": {},
     "output_type": "execute_result"
    }
   ],
   "source": [
    "# 시계열 데이터 생성\n",
    "import numpy as np\n",
    "import torch\n",
    "sequence_length = 5   #5일 단위\n",
    "\n",
    "from tqdm import tqdm\n",
    "def create_sequences(data, seq_length):\n",
    "    xs = []\n",
    "    ys = []\n",
    "    #for i in range(len(data) - seq_length):\n",
    "    for i in tqdm(range(len(data) - seq_length), desc='Generating Sequences') :\n",
    "        x = data[i:i+seq_length]\n",
    "        y = data[i+seq_length]\n",
    "        xs.append(x)\n",
    "        ys.append(y)\n",
    "    return np.array(xs), np.array(ys)   #features, label\n",
    "\n",
    "features, label = create_sequences(df_stock['Close'].values, sequence_length)\n",
    "features.shape, label.shape"
   ]
  },
  {
   "cell_type": "code",
   "execution_count": 7,
   "id": "1908d8c7",
   "metadata": {
    "execution": {
     "iopub.execute_input": "2025-02-04T06:47:12.341078Z",
     "iopub.status.busy": "2025-02-04T06:47:12.340639Z",
     "iopub.status.idle": "2025-02-04T06:47:12.346101Z",
     "shell.execute_reply": "2025-02-04T06:47:12.345246Z"
    },
    "papermill": {
     "duration": 0.012719,
     "end_time": "2025-02-04T06:47:12.347531",
     "exception": false,
     "start_time": "2025-02-04T06:47:12.334812",
     "status": "completed"
    },
    "tags": []
   },
   "outputs": [
    {
     "data": {
      "text/plain": [
       "array([[-1.61561817, -1.62057201, -1.58870387, -1.63022425, -1.64028513],\n",
       "       [-1.62057201, -1.58870387, -1.63022425, -1.64028513, -1.67210203],\n",
       "       [-1.58870387, -1.63022425, -1.64028513, -1.67210203, -1.66643324]])"
      ]
     },
     "execution_count": 7,
     "metadata": {},
     "output_type": "execute_result"
    }
   ],
   "source": [
    "features[:3]"
   ]
  },
  {
   "cell_type": "markdown",
   "id": "4f890ab1",
   "metadata": {
    "papermill": {
     "duration": 0.004757,
     "end_time": "2025-02-04T06:47:12.357399",
     "exception": false,
     "start_time": "2025-02-04T06:47:12.352642",
     "status": "completed"
    },
    "tags": []
   },
   "source": [
    "pytorch에 넣으려면 tensor로 바꿔야함"
   ]
  },
  {
   "cell_type": "code",
   "execution_count": 8,
   "id": "942ba633",
   "metadata": {
    "execution": {
     "iopub.execute_input": "2025-02-04T06:47:12.368535Z",
     "iopub.status.busy": "2025-02-04T06:47:12.368199Z",
     "iopub.status.idle": "2025-02-04T06:47:12.401522Z",
     "shell.execute_reply": "2025-02-04T06:47:12.400578Z"
    },
    "papermill": {
     "duration": 0.040543,
     "end_time": "2025-02-04T06:47:12.402978",
     "exception": false,
     "start_time": "2025-02-04T06:47:12.362435",
     "status": "completed"
    },
    "tags": []
   },
   "outputs": [
    {
     "data": {
      "text/plain": [
       "(torch.Size([1253, 5, 1]), torch.Size([1253, 1]))"
      ]
     },
     "execution_count": 8,
     "metadata": {},
     "output_type": "execute_result"
    }
   ],
   "source": [
    "# 텐서 변환\n",
    "features_tensor = torch.tensor(features, dtype=torch.float32).unsqueeze(-1)\n",
    "label_tensor = torch.tensor(label, dtype=torch.float32).unsqueeze(-1)\n",
    "features_tensor.shape, label_tensor.shape\n"
   ]
  },
  {
   "cell_type": "code",
   "execution_count": 9,
   "id": "d99a1f18",
   "metadata": {
    "execution": {
     "iopub.execute_input": "2025-02-04T06:47:12.414395Z",
     "iopub.status.busy": "2025-02-04T06:47:12.414035Z",
     "iopub.status.idle": "2025-02-04T06:47:12.431888Z",
     "shell.execute_reply": "2025-02-04T06:47:12.430905Z"
    },
    "papermill": {
     "duration": 0.025312,
     "end_time": "2025-02-04T06:47:12.433586",
     "exception": false,
     "start_time": "2025-02-04T06:47:12.408274",
     "status": "completed"
    },
    "tags": []
   },
   "outputs": [
    {
     "data": {
      "text/plain": [
       "SimpleRNN(\n",
       "  (rnn): RNN(1, 5, batch_first=True)\n",
       "  (fc): Linear(in_features=5, out_features=1, bias=True)\n",
       ")"
      ]
     },
     "execution_count": 9,
     "metadata": {},
     "output_type": "execute_result"
    }
   ],
   "source": [
    "# RNN 모델 정의\n",
    "import torch.nn as nn\n",
    "class SimpleRNN(nn.Module):\n",
    "    def __init__(self, input_size, hidden_size, output_size):\n",
    "        super(SimpleRNN, self).__init__()\n",
    "        self.rnn = nn.RNN(input_size, hidden_size, batch_first=True)\n",
    "        self.fc = nn.Linear(hidden_size, output_size)\n",
    "    def forward(self, x):\n",
    "        h0 = torch.zeros(1, x.size(0), hidden_size)\n",
    "        out, _ = self.rnn(x, h0)\n",
    "        out = self.fc(out[:, -1, :])\n",
    "        return out\n",
    "\n",
    "input_size = 1  # row 단위 개수\n",
    "hidden_size = 5  # 은닉층 개수\n",
    "output_size = 1 \n",
    "\n",
    "model = SimpleRNN(input_size, hidden_size, output_size)\n",
    "model"
   ]
  },
  {
   "cell_type": "code",
   "execution_count": 10,
   "id": "ce7fe12d",
   "metadata": {
    "execution": {
     "iopub.execute_input": "2025-02-04T06:47:12.445617Z",
     "iopub.status.busy": "2025-02-04T06:47:12.445315Z",
     "iopub.status.idle": "2025-02-04T06:47:16.995800Z",
     "shell.execute_reply": "2025-02-04T06:47:16.994681Z"
    },
    "papermill": {
     "duration": 4.558857,
     "end_time": "2025-02-04T06:47:16.997857",
     "exception": false,
     "start_time": "2025-02-04T06:47:12.439000",
     "status": "completed"
    },
    "tags": []
   },
   "outputs": [
    {
     "name": "stderr",
     "output_type": "stream",
     "text": [
      "learning Model:  71%|███████   | 71/100 [00:00<00:00, 223.42it/s]"
     ]
    },
    {
     "name": "stdout",
     "output_type": "stream",
     "text": [
      "Epoch [10 / 100], Loss : 0.47816\n",
      "Epoch [20 / 100], Loss : 0.07910\n",
      "Epoch [30 / 100], Loss : 0.08827\n",
      "Epoch [40 / 100], Loss : 0.03762\n",
      "Epoch [50 / 100], Loss : 0.03288\n",
      "Epoch [60 / 100], Loss : 0.02205\n",
      "Epoch [70 / 100], Loss : 0.01463\n"
     ]
    },
    {
     "name": "stderr",
     "output_type": "stream",
     "text": [
      "learning Model: 100%|██████████| 100/100 [00:00<00:00, 207.41it/s]"
     ]
    },
    {
     "name": "stdout",
     "output_type": "stream",
     "text": [
      "Epoch [80 / 100], Loss : 0.01033\n",
      "Epoch [90 / 100], Loss : 0.00763\n",
      "Epoch [100 / 100], Loss : 0.00589\n"
     ]
    },
    {
     "name": "stderr",
     "output_type": "stream",
     "text": [
      "\n"
     ]
    }
   ],
   "source": [
    "# 모델 학습\n",
    "import torch.optim as optim\n",
    "\n",
    "criterion = nn.MSELoss()\n",
    "optimizer = optim.AdamW(model.parameters(), lr=0.01)\n",
    "\n",
    "epochs = 100\n",
    "\n",
    "for epoch in tqdm(range(epochs), desc='learning Model'):\n",
    "    model.train()\n",
    "    outputs = model(features_tensor)\n",
    "    optimizer.zero_grad()\n",
    "    loss = criterion(outputs, label_tensor)  # 에러율 확인\n",
    "    loss.backward()\n",
    "    optimizer.step()\n",
    "\n",
    "    if(epoch+1) % 10 == 0: # 10회에 1번 출력\n",
    "        print(f'Epoch [{epoch+1} / {epochs}], Loss : {loss.item():.5f}')"
   ]
  },
  {
   "cell_type": "code",
   "execution_count": 11,
   "id": "17df06ea",
   "metadata": {
    "execution": {
     "iopub.execute_input": "2025-02-04T06:47:17.010678Z",
     "iopub.status.busy": "2025-02-04T06:47:17.010220Z",
     "iopub.status.idle": "2025-02-04T06:47:17.031553Z",
     "shell.execute_reply": "2025-02-04T06:47:17.030526Z"
    },
    "papermill": {
     "duration": 0.029317,
     "end_time": "2025-02-04T06:47:17.033109",
     "exception": false,
     "start_time": "2025-02-04T06:47:17.003792",
     "status": "completed"
    },
    "tags": []
   },
   "outputs": [
    {
     "data": {
      "text/plain": [
       "OrderedDict([('rnn.weight_ih_l0',\n",
       "              tensor([[-0.1848],\n",
       "                      [ 0.2535],\n",
       "                      [ 0.1984],\n",
       "                      [ 0.3694],\n",
       "                      [ 0.5889]])),\n",
       "             ('rnn.weight_hh_l0',\n",
       "              tensor([[ 0.3832, -0.2278, -0.2445,  0.5269, -0.5165],\n",
       "                      [-0.3383, -0.2704,  0.1495, -0.0471,  0.1977],\n",
       "                      [-0.2578,  0.5904, -0.4158,  0.2235,  0.2613],\n",
       "                      [-0.0369,  0.5400,  0.4035, -0.0715,  0.5645],\n",
       "                      [-0.3134,  0.1617, -0.0820, -0.2784, -0.0159]])),\n",
       "             ('rnn.bias_ih_l0',\n",
       "              tensor([-0.2838,  0.2514, -0.2364, -0.0190,  0.0262])),\n",
       "             ('rnn.bias_hh_l0',\n",
       "              tensor([ 0.0992, -0.0221, -0.2050,  0.1033, -0.1578])),\n",
       "             ('fc.weight',\n",
       "              tensor([[-0.4215,  0.2285,  0.3170,  0.4829,  0.6062]])),\n",
       "             ('fc.bias', tensor([-0.0897]))])"
      ]
     },
     "execution_count": 11,
     "metadata": {},
     "output_type": "execute_result"
    }
   ],
   "source": [
    "model.state_dict()"
   ]
  },
  {
   "cell_type": "markdown",
   "id": "48d6974b",
   "metadata": {
    "papermill": {
     "duration": 0.005584,
     "end_time": "2025-02-04T06:47:17.044702",
     "exception": false,
     "start_time": "2025-02-04T06:47:17.039118",
     "status": "completed"
    },
    "tags": []
   },
   "source": [
    "# 평가 관련"
   ]
  },
  {
   "cell_type": "code",
   "execution_count": 12,
   "id": "3f61016f",
   "metadata": {
    "execution": {
     "iopub.execute_input": "2025-02-04T06:47:17.056935Z",
     "iopub.status.busy": "2025-02-04T06:47:17.056592Z",
     "iopub.status.idle": "2025-02-04T06:47:17.062190Z",
     "shell.execute_reply": "2025-02-04T06:47:17.061247Z"
    },
    "papermill": {
     "duration": 0.013417,
     "end_time": "2025-02-04T06:47:17.063739",
     "exception": false,
     "start_time": "2025-02-04T06:47:17.050322",
     "status": "completed"
    },
    "tags": []
   },
   "outputs": [
    {
     "data": {
      "text/plain": [
       "SimpleRNN(\n",
       "  (rnn): RNN(1, 5, batch_first=True)\n",
       "  (fc): Linear(in_features=5, out_features=1, bias=True)\n",
       ")"
      ]
     },
     "execution_count": 12,
     "metadata": {},
     "output_type": "execute_result"
    }
   ],
   "source": [
    "model.eval()"
   ]
  },
  {
   "cell_type": "code",
   "execution_count": 13,
   "id": "d0bb4f9b",
   "metadata": {
    "execution": {
     "iopub.execute_input": "2025-02-04T06:47:17.076600Z",
     "iopub.status.busy": "2025-02-04T06:47:17.076308Z",
     "iopub.status.idle": "2025-02-04T06:47:17.084016Z",
     "shell.execute_reply": "2025-02-04T06:47:17.083051Z"
    },
    "papermill": {
     "duration": 0.01586,
     "end_time": "2025-02-04T06:47:17.085676",
     "exception": false,
     "start_time": "2025-02-04T06:47:17.069816",
     "status": "completed"
    },
    "tags": []
   },
   "outputs": [
    {
     "data": {
      "text/plain": [
       "(tensor([[-1.5423],\n",
       "         [-1.5550],\n",
       "         [-1.5589],\n",
       "         [-1.5617],\n",
       "         [-1.5621]]),\n",
       " tensor([[-1.6721],\n",
       "         [-1.6664],\n",
       "         [-1.6714],\n",
       "         [-1.6690],\n",
       "         [-1.6595]]))"
      ]
     },
     "execution_count": 13,
     "metadata": {},
     "output_type": "execute_result"
    }
   ],
   "source": [
    "with torch.no_grad():\n",
    "    predicted = model(features_tensor[:5])\n",
    "predicted, label_tensor[:5]"
   ]
  },
  {
   "cell_type": "code",
   "execution_count": null,
   "id": "eac7b425",
   "metadata": {
    "papermill": {
     "duration": 0.006197,
     "end_time": "2025-02-04T06:47:17.097822",
     "exception": false,
     "start_time": "2025-02-04T06:47:17.091625",
     "status": "completed"
    },
    "tags": []
   },
   "outputs": [],
   "source": []
  }
 ],
 "metadata": {
  "kaggle": {
   "accelerator": "nvidiaTeslaT4",
   "dataSources": [
    {
     "datasetId": 4081618,
     "sourceId": 7084494,
     "sourceType": "datasetVersion"
    }
   ],
   "dockerImageVersionId": 30840,
   "isGpuEnabled": true,
   "isInternetEnabled": true,
   "language": "python",
   "sourceType": "notebook"
  },
  "kernelspec": {
   "display_name": "Python 3",
   "language": "python",
   "name": "python3"
  },
  "language_info": {
   "codemirror_mode": {
    "name": "ipython",
    "version": 3
   },
   "file_extension": ".py",
   "mimetype": "text/x-python",
   "name": "python",
   "nbconvert_exporter": "python",
   "pygments_lexer": "ipython3",
   "version": "3.10.12"
  },
  "papermill": {
   "default_parameters": {},
   "duration": 16.557543,
   "end_time": "2025-02-04T06:47:18.826779",
   "environment_variables": {},
   "exception": null,
   "input_path": "__notebook__.ipynb",
   "output_path": "__notebook__.ipynb",
   "parameters": {},
   "start_time": "2025-02-04T06:47:02.269236",
   "version": "2.6.0"
  }
 },
 "nbformat": 4,
 "nbformat_minor": 5
}
